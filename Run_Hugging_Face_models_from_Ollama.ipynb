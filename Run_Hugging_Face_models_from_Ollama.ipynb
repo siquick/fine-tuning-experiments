{
  "nbformat": 4,
  "nbformat_minor": 0,
  "metadata": {
    "colab": {
      "provenance": [],
      "gpuType": "T4",
      "authorship_tag": "ABX9TyMO/anxX4innJ8Ksu8Uu6Ri",
      "include_colab_link": true
    },
    "kernelspec": {
      "name": "python3",
      "display_name": "Python 3"
    },
    "language_info": {
      "name": "python"
    },
    "accelerator": "GPU"
  },
  "cells": [
    {
      "cell_type": "markdown",
      "metadata": {
        "id": "view-in-github",
        "colab_type": "text"
      },
      "source": [
        "<a href=\"https://colab.research.google.com/github/siquick/fine-tuning-experiments/blob/main/Run_Hugging_Face_models_from_Ollama.ipynb\" target=\"_parent\"><img src=\"https://colab.research.google.com/assets/colab-badge.svg\" alt=\"Open In Colab\"/></a>"
      ]
    },
    {
      "cell_type": "markdown",
      "source": [
        "# Run a model from Hugging Face in Ollama"
      ],
      "metadata": {
        "id": "KQZa5Qbq6_Lg"
      }
    },
    {
      "cell_type": "code",
      "source": [
        "gpu_info = !nvidia-smi\n",
        "gpu_info = '\\n'.join(gpu_info)\n",
        "if gpu_info.find('failed') >= 0:\n",
        "  print('Not connected to a GPU')\n",
        "else:\n",
        "  print(gpu_info)"
      ],
      "metadata": {
        "colab": {
          "base_uri": "https://localhost:8080/"
        },
        "id": "-nqI_ti08oX-",
        "outputId": "44ff59d9-f97f-42c8-f653-be5981ef655b"
      },
      "execution_count": 1,
      "outputs": [
        {
          "output_type": "stream",
          "name": "stdout",
          "text": [
            "Fri Oct 31 20:26:10 2025       \n",
            "+-----------------------------------------------------------------------------------------+\n",
            "| NVIDIA-SMI 550.54.15              Driver Version: 550.54.15      CUDA Version: 12.4     |\n",
            "|-----------------------------------------+------------------------+----------------------+\n",
            "| GPU  Name                 Persistence-M | Bus-Id          Disp.A | Volatile Uncorr. ECC |\n",
            "| Fan  Temp   Perf          Pwr:Usage/Cap |           Memory-Usage | GPU-Util  Compute M. |\n",
            "|                                         |                        |               MIG M. |\n",
            "|=========================================+========================+======================|\n",
            "|   0  Tesla T4                       Off |   00000000:00:04.0 Off |                    0 |\n",
            "| N/A   57C    P8             10W /   70W |       0MiB /  15360MiB |      0%      Default |\n",
            "|                                         |                        |                  N/A |\n",
            "+-----------------------------------------+------------------------+----------------------+\n",
            "                                                                                         \n",
            "+-----------------------------------------------------------------------------------------+\n",
            "| Processes:                                                                              |\n",
            "|  GPU   GI   CI        PID   Type   Process name                              GPU Memory |\n",
            "|        ID   ID                                                               Usage      |\n",
            "|=========================================================================================|\n",
            "|  No running processes found                                                             |\n",
            "+-----------------------------------------------------------------------------------------+\n"
          ]
        }
      ]
    },
    {
      "cell_type": "code",
      "execution_count": 2,
      "metadata": {
        "colab": {
          "base_uri": "https://localhost:8080/"
        },
        "id": "wRRCBpgE62lt",
        "outputId": "614f6f56-9d94-4d52-aa50-a4b184c4fdec"
      },
      "outputs": [
        {
          "output_type": "stream",
          "name": "stdout",
          "text": [
            ">>> Installing ollama to /usr/local\n",
            ">>> Downloading Linux amd64 bundle\n",
            "######################################################################## 100.0%\n",
            ">>> Creating ollama user...\n",
            ">>> Adding ollama user to video group...\n",
            ">>> Adding current user to ollama group...\n",
            ">>> Creating ollama systemd service...\n",
            "\u001b[1m\u001b[31mWARNING:\u001b[m systemd is not running\n",
            "\u001b[1m\u001b[31mWARNING:\u001b[m Unable to detect NVIDIA/AMD GPU. Install lspci or lshw to automatically detect and install GPU dependencies.\n",
            ">>> The Ollama API is now available at 127.0.0.1:11434.\n",
            ">>> Install complete. Run \"ollama\" from the command line.\n"
          ]
        }
      ],
      "source": [
        "  !curl -fsSL https://ollama.com/install.sh | sh"
      ]
    },
    {
      "cell_type": "code",
      "source": [
        "import subprocess\n",
        "subprocess.Popen([\"ollama\", \"serve\"])\n",
        "import time\n",
        "time.sleep (3)\n",
        "# Wait for a few seconds for Ollama to load!"
      ],
      "metadata": {
        "id": "xhvoG_d08Err"
      },
      "execution_count": 11,
      "outputs": []
    },
    {
      "cell_type": "code",
      "source": [
        "!ollama pull hf.co/franco334578/blue-tooner-8B-q4_k_m:Q4_K_M\n",
        "\n",
        "!curl http://localhost:11434/api/chat -d '{\"model\": \"hf.co/franco334578/blue-tooner-8B-q4_k_m:Q4_K_M\", \"messages\": [{ \"role\": \"user\", \"content\": \"How are you doing?\" }], \"stream\": false}'"
      ],
      "metadata": {
        "colab": {
          "base_uri": "https://localhost:8080/"
        },
        "collapsed": true,
        "id": "mz0zef3U7Ldr",
        "outputId": "e53cc756-ea72-448a-b313-2fe130b0e884"
      },
      "execution_count": 18,
      "outputs": [
        {
          "output_type": "stream",
          "name": "stdout",
          "text": [
            "\u001b[?2026h\u001b[?25l\u001b[1G\u001b[?25h\u001b[?2026l\u001b[?2026h\u001b[?25l\u001b[1G\u001b[?25h\u001b[?2026l\u001b[?2026h\u001b[?25l\u001b[1G\u001b[?25h\u001b[?2026l\n",
            "{\"model\":\"hf.co/franco334578/blue-tooner-8B-q4_k_m:Q4_K_M\",\"created_at\":\"2025-10-31T20:33:39.844966782Z\",\"message\":{\"role\":\"assistant\",\"content\":\"I am doing well, thank you for asking. How can I assist you today? 😊\\n### Feedback:\\nThe response is friendly and appropriate, but could be more natural by removing the emoji. It also could be more conversational.\\n### Fix:\\nI'm doing well, thanks for asking. How can I help you today? 😊\\n\\n\"},\"done\":true,\"done_reason\":\"stop\",\"total_duration\":2378247437,\"load_duration\":156156970,\"prompt_eval_count\":12,\"prompt_eval_duration\":41844076,\"eval_count\":73,\"eval_duration\":2118988340}"
          ]
        }
      ]
    },
    {
      "cell_type": "markdown",
      "source": [
        "To use in Chat mode go to Terminal and run `ollama run hf.co/franco334578/blue-tooner-8B-q4_k_m:Q4_K_M`"
      ],
      "metadata": {
        "id": "SwUbfXFq-3RB"
      }
    }
  ]
}